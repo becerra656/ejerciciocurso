{
 "cells": [
  {
   "cell_type": "markdown",
   "id": "14a9e44a-f82c-43d9-9821-75dd0933a48e",
   "metadata": {},
   "source": [
    "# Data Science Tools and Ecosystem"
   ]
  },
  {
   "cell_type": "markdown",
   "id": "d599e0b6-5416-45cb-8443-2be5510c3271",
   "metadata": {},
   "source": [
    "## In this notebook, Data Science Tools and Ecosystem are summarized."
   ]
  },
  {
   "cell_type": "markdown",
   "id": "f4a124e3-5695-41df-aef4-d51eb7c037a3",
   "metadata": {},
   "source": [
    "**Objetives:**\n",
    "1. List popular languages for Data Sciencie\n",
    "2. List popular libraries for Data Sciencie\n",
    "3. Table of Data Science Tools\n",
    "4. Examples of arithmetix expressions"
   ]
  },
  {
   "cell_type": "markdown",
   "id": "c252d33a-6e90-465b-84d2-bc75bd5e7ae8",
   "metadata": {},
   "source": [
    "Some of the popular languages that Data Scientists use are:\n",
    "1. Phyton\n",
    "2. R\n",
    "3. SQL\n"
   ]
  },
  {
   "cell_type": "markdown",
   "id": "2c761d04-a4c3-49c4-b372-ba9627759186",
   "metadata": {},
   "source": [
    "Some of the commonly used libraries used by Data Scientists include:\n",
    "\n",
    "1. Panda\n",
    "2. Numpy\n",
    "3. Seaborn"
   ]
  },
  {
   "cell_type": "markdown",
   "id": "7f6a9e9a-9bee-4622-8d92-e37d6fa47357",
   "metadata": {},
   "source": [
    "|Data Science Tools|\n",
    "|------------------|\n",
    "|Jupyter Notebooks|\n",
    "|R Studio|\n",
    "|Apache Sparks|\n"
   ]
  },
  {
   "cell_type": "markdown",
   "id": "08387a8d-ed83-4153-abc5-ff7c2e484b09",
   "metadata": {},
   "source": [
    "### Below are a few examples of evaluating arithmetic expressions in Python."
   ]
  },
  {
   "cell_type": "markdown",
   "id": "80b3edbb-35e3-4aa6-9b48-66b540097a41",
   "metadata": {},
   "source": [
    "This a simple arithmetic expression to mutiply then add integers"
   ]
  },
  {
   "cell_type": "code",
   "execution_count": 7,
   "id": "90963f65-f30f-4f7a-b8f1-27c4c4e665f4",
   "metadata": {},
   "outputs": [
    {
     "data": {
      "text/plain": [
       "17"
      ]
     },
     "execution_count": 7,
     "metadata": {},
     "output_type": "execute_result"
    }
   ],
   "source": [
    "(3*4)+5"
   ]
  },
  {
   "cell_type": "markdown",
   "id": "d9e2aae1-41a6-4f43-9e03-43ca130761fd",
   "metadata": {},
   "source": [
    "This will convert 200 minutes to hours by diving by 60"
   ]
  },
  {
   "cell_type": "code",
   "execution_count": 8,
   "id": "a100d77c-02c1-4068-a490-c71f25d5936a",
   "metadata": {},
   "outputs": [
    {
     "data": {
      "text/plain": [
       "3.3333333333333335"
      ]
     },
     "execution_count": 8,
     "metadata": {},
     "output_type": "execute_result"
    }
   ],
   "source": [
    "200/60"
   ]
  },
  {
   "cell_type": "markdown",
   "id": "c6af0ba0-cd17-4a76-bdf4-64eac3cb3b5a",
   "metadata": {},
   "source": [
    "## Author\n",
    "Raul Francisco Becerra Bernal"
   ]
  },
  {
   "cell_type": "code",
   "execution_count": null,
   "id": "fc5bd60b-bc15-43bc-85db-e805390c1275",
   "metadata": {},
   "outputs": [],
   "source": []
  }
 ],
 "metadata": {
  "kernelspec": {
   "display_name": "Python 3 (ipykernel)",
   "language": "python",
   "name": "python3"
  },
  "language_info": {
   "codemirror_mode": {
    "name": "ipython",
    "version": 3
   },
   "file_extension": ".py",
   "mimetype": "text/x-python",
   "name": "python",
   "nbconvert_exporter": "python",
   "pygments_lexer": "ipython3",
   "version": "3.11.9"
  }
 },
 "nbformat": 4,
 "nbformat_minor": 5
}
